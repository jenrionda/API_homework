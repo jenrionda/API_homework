{
 "cells": [
  {
   "cell_type": "code",
   "execution_count": 1,
   "metadata": {},
   "outputs": [],
   "source": [
    "import numpy as np\n",
    "import pandas as pd\n",
    "from datetime import datetime, timedelta\n",
    "import matplotlib.pyplot as plt\n",
    "%matplotlib inline"
   ]
  },
  {
   "cell_type": "code",
   "execution_count": 2,
   "metadata": {},
   "outputs": [],
   "source": [
    "np.random.seed(42)"
   ]
  },
  {
   "cell_type": "markdown",
   "metadata": {},
   "source": [
    "# Portfolio Planner\n",
    "\n",
    "In this activity, you will use the iedfinance api to grab historical data for a 60/40 portfolio using `SPY` to represent the stock portion and `AGG` to represent the bonds."
   ]
  },
  {
   "cell_type": "code",
   "execution_count": 3,
   "metadata": {},
   "outputs": [],
   "source": [
    "from iexfinance.stocks import get_historical_data\n",
    "import iexfinance as iex\n",
    "from iexfinance.refdata import get_symbols"
   ]
  },
  {
   "cell_type": "markdown",
   "metadata": {},
   "source": [
    "# Data Collection\n",
    "\n",
    "In this step, you will need to use the IEX api to fetch closing prices for the `SPY` and `AGG` tickers. Save the results as a pandas DataFrame"
   ]
  },
  {
   "cell_type": "code",
   "execution_count": 4,
   "metadata": {},
   "outputs": [],
   "source": [
    "# Set the tickers\n",
    "list_of_tickers = [\"SPY\", \"AGG\"]"
   ]
  },
  {
   "cell_type": "code",
   "execution_count": 5,
   "metadata": {},
   "outputs": [],
   "source": [
    "# Set Start and end date\n",
    "end_date = datetime.now()\n",
    "start_date = end_date + timedelta(-365)"
   ]
  },
  {
   "cell_type": "code",
   "execution_count": 6,
   "metadata": {},
   "outputs": [
    {
     "data": {
      "text/html": [
       "<div>\n",
       "<style scoped>\n",
       "    .dataframe tbody tr th:only-of-type {\n",
       "        vertical-align: middle;\n",
       "    }\n",
       "\n",
       "    .dataframe tbody tr th {\n",
       "        vertical-align: top;\n",
       "    }\n",
       "\n",
       "    .dataframe thead tr th {\n",
       "        text-align: left;\n",
       "    }\n",
       "\n",
       "    .dataframe thead tr:last-of-type th {\n",
       "        text-align: right;\n",
       "    }\n",
       "</style>\n",
       "<table border=\"1\" class=\"dataframe\">\n",
       "  <thead>\n",
       "    <tr>\n",
       "      <th></th>\n",
       "      <th colspan=\"5\" halign=\"left\">SPY</th>\n",
       "      <th colspan=\"5\" halign=\"left\">AGG</th>\n",
       "    </tr>\n",
       "    <tr>\n",
       "      <th></th>\n",
       "      <th>open</th>\n",
       "      <th>high</th>\n",
       "      <th>low</th>\n",
       "      <th>close</th>\n",
       "      <th>volume</th>\n",
       "      <th>open</th>\n",
       "      <th>high</th>\n",
       "      <th>low</th>\n",
       "      <th>close</th>\n",
       "      <th>volume</th>\n",
       "    </tr>\n",
       "    <tr>\n",
       "      <th>date</th>\n",
       "      <th></th>\n",
       "      <th></th>\n",
       "      <th></th>\n",
       "      <th></th>\n",
       "      <th></th>\n",
       "      <th></th>\n",
       "      <th></th>\n",
       "      <th></th>\n",
       "      <th></th>\n",
       "      <th></th>\n",
       "    </tr>\n",
       "  </thead>\n",
       "  <tbody>\n",
       "    <tr>\n",
       "      <th>2018-11-21</th>\n",
       "      <td>265.86</td>\n",
       "      <td>267.15</td>\n",
       "      <td>265.01</td>\n",
       "      <td>265.02</td>\n",
       "      <td>75563743</td>\n",
       "      <td>104.60</td>\n",
       "      <td>104.69</td>\n",
       "      <td>104.58</td>\n",
       "      <td>104.68</td>\n",
       "      <td>5701650</td>\n",
       "    </tr>\n",
       "    <tr>\n",
       "      <th>2018-11-23</th>\n",
       "      <td>263.18</td>\n",
       "      <td>264.82</td>\n",
       "      <td>263.07</td>\n",
       "      <td>263.25</td>\n",
       "      <td>42807878</td>\n",
       "      <td>104.84</td>\n",
       "      <td>104.84</td>\n",
       "      <td>104.65</td>\n",
       "      <td>104.65</td>\n",
       "      <td>1665891</td>\n",
       "    </tr>\n",
       "    <tr>\n",
       "      <th>2018-11-26</th>\n",
       "      <td>265.78</td>\n",
       "      <td>267.75</td>\n",
       "      <td>265.34</td>\n",
       "      <td>267.50</td>\n",
       "      <td>79981362</td>\n",
       "      <td>104.67</td>\n",
       "      <td>104.67</td>\n",
       "      <td>104.59</td>\n",
       "      <td>104.63</td>\n",
       "      <td>4326052</td>\n",
       "    </tr>\n",
       "    <tr>\n",
       "      <th>2018-11-27</th>\n",
       "      <td>266.34</td>\n",
       "      <td>268.40</td>\n",
       "      <td>265.66</td>\n",
       "      <td>268.40</td>\n",
       "      <td>75502441</td>\n",
       "      <td>104.58</td>\n",
       "      <td>104.74</td>\n",
       "      <td>104.58</td>\n",
       "      <td>104.66</td>\n",
       "      <td>4107650</td>\n",
       "    </tr>\n",
       "    <tr>\n",
       "      <th>2018-11-28</th>\n",
       "      <td>269.60</td>\n",
       "      <td>274.58</td>\n",
       "      <td>268.33</td>\n",
       "      <td>274.58</td>\n",
       "      <td>127629633</td>\n",
       "      <td>104.63</td>\n",
       "      <td>104.91</td>\n",
       "      <td>104.57</td>\n",
       "      <td>104.86</td>\n",
       "      <td>8513892</td>\n",
       "    </tr>\n",
       "  </tbody>\n",
       "</table>\n",
       "</div>"
      ],
      "text/plain": [
       "               SPY                                        AGG                  \\\n",
       "              open    high     low   close     volume    open    high     low   \n",
       "date                                                                            \n",
       "2018-11-21  265.86  267.15  265.01  265.02   75563743  104.60  104.69  104.58   \n",
       "2018-11-23  263.18  264.82  263.07  263.25   42807878  104.84  104.84  104.65   \n",
       "2018-11-26  265.78  267.75  265.34  267.50   79981362  104.67  104.67  104.59   \n",
       "2018-11-27  266.34  268.40  265.66  268.40   75502441  104.58  104.74  104.58   \n",
       "2018-11-28  269.60  274.58  268.33  274.58  127629633  104.63  104.91  104.57   \n",
       "\n",
       "                             \n",
       "             close   volume  \n",
       "date                         \n",
       "2018-11-21  104.68  5701650  \n",
       "2018-11-23  104.65  1665891  \n",
       "2018-11-26  104.63  4326052  \n",
       "2018-11-27  104.66  4107650  \n",
       "2018-11-28  104.86  8513892  "
      ]
     },
     "execution_count": 6,
     "metadata": {},
     "output_type": "execute_result"
    }
   ],
   "source": [
    "# Get 1 year's worth of historical data  - NEED HELP\n",
    "tickers_df = pd.DataFrame(get_historical_data(list_of_tickers, start_date, end_date, output_format='pandas'))\n",
    "tickers_df.head()"
   ]
  },
  {
   "cell_type": "markdown",
   "metadata": {},
   "source": [
    "# Monte Carlo Simulation\n",
    "\n",
    "In this step, you will run Monte Carlo Simulations for your portfolio to model portfolio performance at different retirement ages. \n",
    "\n",
    "Complete the following steps:\n",
    "1. Calculate the daily returns for the SPY and AGG closing prices.\n",
    "2. Calculate volatility for both the SPY and AGG closing prices.\n",
    "3. Find the last day's closing price for both stocks and save those as variables.\n",
    "4. Run a Monte Carlo Simulation of at least 100 iterations and generate at least 20 years of closing prices\n",
    "\n",
    "### HINTS:\n",
    "There are 252 trading days per year, so the number of records to generate for each Monte Carlo run will be 252 days * 20 years"
   ]
  },
  {
   "cell_type": "code",
   "execution_count": 7,
   "metadata": {},
   "outputs": [
    {
     "data": {
      "text/html": [
       "<div>\n",
       "<style scoped>\n",
       "    .dataframe tbody tr th:only-of-type {\n",
       "        vertical-align: middle;\n",
       "    }\n",
       "\n",
       "    .dataframe tbody tr th {\n",
       "        vertical-align: top;\n",
       "    }\n",
       "\n",
       "    .dataframe thead tr th {\n",
       "        text-align: left;\n",
       "    }\n",
       "\n",
       "    .dataframe thead tr:last-of-type th {\n",
       "        text-align: right;\n",
       "    }\n",
       "</style>\n",
       "<table border=\"1\" class=\"dataframe\">\n",
       "  <thead>\n",
       "    <tr>\n",
       "      <th></th>\n",
       "      <th colspan=\"5\" halign=\"left\">SPY</th>\n",
       "      <th colspan=\"5\" halign=\"left\">AGG</th>\n",
       "    </tr>\n",
       "    <tr>\n",
       "      <th></th>\n",
       "      <th>open</th>\n",
       "      <th>high</th>\n",
       "      <th>low</th>\n",
       "      <th>close</th>\n",
       "      <th>volume</th>\n",
       "      <th>open</th>\n",
       "      <th>high</th>\n",
       "      <th>low</th>\n",
       "      <th>close</th>\n",
       "      <th>volume</th>\n",
       "    </tr>\n",
       "    <tr>\n",
       "      <th>date</th>\n",
       "      <th></th>\n",
       "      <th></th>\n",
       "      <th></th>\n",
       "      <th></th>\n",
       "      <th></th>\n",
       "      <th></th>\n",
       "      <th></th>\n",
       "      <th></th>\n",
       "      <th></th>\n",
       "      <th></th>\n",
       "    </tr>\n",
       "  </thead>\n",
       "  <tbody>\n",
       "    <tr>\n",
       "      <th>2018-11-21</th>\n",
       "      <td>NaN</td>\n",
       "      <td>NaN</td>\n",
       "      <td>NaN</td>\n",
       "      <td>NaN</td>\n",
       "      <td>NaN</td>\n",
       "      <td>NaN</td>\n",
       "      <td>NaN</td>\n",
       "      <td>NaN</td>\n",
       "      <td>NaN</td>\n",
       "      <td>NaN</td>\n",
       "    </tr>\n",
       "    <tr>\n",
       "      <th>2018-11-23</th>\n",
       "      <td>-0.010080</td>\n",
       "      <td>-0.008722</td>\n",
       "      <td>-0.007320</td>\n",
       "      <td>-0.006679</td>\n",
       "      <td>-0.433487</td>\n",
       "      <td>0.002294</td>\n",
       "      <td>0.001433</td>\n",
       "      <td>0.000669</td>\n",
       "      <td>-0.000287</td>\n",
       "      <td>-0.707823</td>\n",
       "    </tr>\n",
       "    <tr>\n",
       "      <th>2018-11-26</th>\n",
       "      <td>0.009879</td>\n",
       "      <td>0.011064</td>\n",
       "      <td>0.008629</td>\n",
       "      <td>0.016144</td>\n",
       "      <td>0.868380</td>\n",
       "      <td>-0.001622</td>\n",
       "      <td>-0.001622</td>\n",
       "      <td>-0.000573</td>\n",
       "      <td>-0.000191</td>\n",
       "      <td>1.596840</td>\n",
       "    </tr>\n",
       "    <tr>\n",
       "      <th>2018-11-27</th>\n",
       "      <td>0.002107</td>\n",
       "      <td>0.002428</td>\n",
       "      <td>0.001206</td>\n",
       "      <td>0.003364</td>\n",
       "      <td>-0.056000</td>\n",
       "      <td>-0.000860</td>\n",
       "      <td>0.000669</td>\n",
       "      <td>-0.000096</td>\n",
       "      <td>0.000287</td>\n",
       "      <td>-0.050485</td>\n",
       "    </tr>\n",
       "    <tr>\n",
       "      <th>2018-11-28</th>\n",
       "      <td>0.012240</td>\n",
       "      <td>0.023025</td>\n",
       "      <td>0.010050</td>\n",
       "      <td>0.023025</td>\n",
       "      <td>0.690404</td>\n",
       "      <td>0.000478</td>\n",
       "      <td>0.001623</td>\n",
       "      <td>-0.000096</td>\n",
       "      <td>0.001911</td>\n",
       "      <td>1.072692</td>\n",
       "    </tr>\n",
       "  </tbody>\n",
       "</table>\n",
       "</div>"
      ],
      "text/plain": [
       "                 SPY                                               AGG  \\\n",
       "                open      high       low     close    volume      open   \n",
       "date                                                                     \n",
       "2018-11-21       NaN       NaN       NaN       NaN       NaN       NaN   \n",
       "2018-11-23 -0.010080 -0.008722 -0.007320 -0.006679 -0.433487  0.002294   \n",
       "2018-11-26  0.009879  0.011064  0.008629  0.016144  0.868380 -0.001622   \n",
       "2018-11-27  0.002107  0.002428  0.001206  0.003364 -0.056000 -0.000860   \n",
       "2018-11-28  0.012240  0.023025  0.010050  0.023025  0.690404  0.000478   \n",
       "\n",
       "                                                    \n",
       "                high       low     close    volume  \n",
       "date                                                \n",
       "2018-11-21       NaN       NaN       NaN       NaN  \n",
       "2018-11-23  0.001433  0.000669 -0.000287 -0.707823  \n",
       "2018-11-26 -0.001622 -0.000573 -0.000191  1.596840  \n",
       "2018-11-27  0.000669 -0.000096  0.000287 -0.050485  \n",
       "2018-11-28  0.001623 -0.000096  0.001911  1.072692  "
      ]
     },
     "execution_count": 7,
     "metadata": {},
     "output_type": "execute_result"
    }
   ],
   "source": [
    "# Calculate the daily returns for the SPY and AGG closing prices.\n",
    "daily_returns = tickers_df.pct_change()\n",
    "daily_returns.head()"
   ]
  },
  {
   "cell_type": "code",
   "execution_count": 11,
   "metadata": {},
   "outputs": [
    {
     "data": {
      "text/plain": [
       "0.000683698612042754"
      ]
     },
     "execution_count": 11,
     "metadata": {},
     "output_type": "execute_result"
    }
   ],
   "source": [
    "# Calculate volatility for both the SPY and AGG closing prices.\n",
    "# YOUR CODE HERE\n",
    "avg_daily_return_spy = daily_returns.mean()['SPY']['close']\n",
    "avg_daily_return_spy"
   ]
  },
  {
   "cell_type": "code",
   "execution_count": 12,
   "metadata": {},
   "outputs": [
    {
     "data": {
      "text/plain": [
       "0.0003069674619987461"
      ]
     },
     "execution_count": 12,
     "metadata": {},
     "output_type": "execute_result"
    }
   ],
   "source": [
    "avg_daily_return_agg = daily_returns.mean()['AGG']['close']\n",
    "avg_daily_return_agg"
   ]
  },
  {
   "cell_type": "code",
   "execution_count": 13,
   "metadata": {},
   "outputs": [
    {
     "data": {
      "text/plain": [
       "0.009661383508571752"
      ]
     },
     "execution_count": 13,
     "metadata": {},
     "output_type": "execute_result"
    }
   ],
   "source": [
    "std_dev_daily_return_spy = daily_returns.std()['SPY']['close']\n",
    "std_dev_daily_return_spy"
   ]
  },
  {
   "cell_type": "code",
   "execution_count": 14,
   "metadata": {},
   "outputs": [
    {
     "data": {
      "text/plain": [
       "0.0020355605321420453"
      ]
     },
     "execution_count": 14,
     "metadata": {},
     "output_type": "execute_result"
    }
   ],
   "source": [
    "std_dev_daily_return_agg = daily_returns.std()['AGG']['close']\n",
    "std_dev_daily_return_agg"
   ]
  },
  {
   "cell_type": "code",
   "execution_count": 15,
   "metadata": {},
   "outputs": [],
   "source": [
    "# Save the last day's closing price\n",
    "# YOUR CODE HERE\n",
    "spy_last_price = tickers_df['SPY']['close'][-1]\n",
    "agg_last_price = tickers_df['AGG']['close'][-1]"
   ]
  },
  {
   "cell_type": "code",
   "execution_count": 16,
   "metadata": {},
   "outputs": [],
   "source": [
    "# Setup the Monte Carlo Parameters\n",
    "number_simulations = 100\n",
    "number_records = 252 * 30\n",
    "monte_carlo = pd.DataFrame()\n",
    "simulated_price_df = pd.DataFrame()\n",
    "portfolio_cumulative_returns = pd.DataFrame()"
   ]
  },
  {
   "cell_type": "code",
   "execution_count": 20,
   "metadata": {},
   "outputs": [
    {
     "data": {
      "text/html": [
       "<div>\n",
       "<style scoped>\n",
       "    .dataframe tbody tr th:only-of-type {\n",
       "        vertical-align: middle;\n",
       "    }\n",
       "\n",
       "    .dataframe tbody tr th {\n",
       "        vertical-align: top;\n",
       "    }\n",
       "\n",
       "    .dataframe thead th {\n",
       "        text-align: right;\n",
       "    }\n",
       "</style>\n",
       "<table border=\"1\" class=\"dataframe\">\n",
       "  <thead>\n",
       "    <tr style=\"text-align: right;\">\n",
       "      <th></th>\n",
       "      <th>0</th>\n",
       "      <th>1</th>\n",
       "      <th>2</th>\n",
       "      <th>3</th>\n",
       "      <th>4</th>\n",
       "      <th>5</th>\n",
       "      <th>6</th>\n",
       "      <th>7</th>\n",
       "      <th>8</th>\n",
       "      <th>9</th>\n",
       "      <th>...</th>\n",
       "      <th>90</th>\n",
       "      <th>91</th>\n",
       "      <th>92</th>\n",
       "      <th>93</th>\n",
       "      <th>94</th>\n",
       "      <th>95</th>\n",
       "      <th>96</th>\n",
       "      <th>97</th>\n",
       "      <th>98</th>\n",
       "      <th>99</th>\n",
       "    </tr>\n",
       "  </thead>\n",
       "  <tbody>\n",
       "    <tr>\n",
       "      <th>0</th>\n",
       "      <td>1.000000</td>\n",
       "      <td>1.000000</td>\n",
       "      <td>1.000000</td>\n",
       "      <td>1.000000</td>\n",
       "      <td>1.000000</td>\n",
       "      <td>1.000000</td>\n",
       "      <td>1.000000</td>\n",
       "      <td>1.000000</td>\n",
       "      <td>1.000000</td>\n",
       "      <td>1.000000</td>\n",
       "      <td>...</td>\n",
       "      <td>1.000000</td>\n",
       "      <td>1.000000</td>\n",
       "      <td>1.000000</td>\n",
       "      <td>1.000000</td>\n",
       "      <td>1.000000</td>\n",
       "      <td>1.000000</td>\n",
       "      <td>1.000000</td>\n",
       "      <td>1.000000</td>\n",
       "      <td>1.000000</td>\n",
       "      <td>1.000000</td>\n",
       "    </tr>\n",
       "    <tr>\n",
       "      <th>1</th>\n",
       "      <td>1.003300</td>\n",
       "      <td>0.994681</td>\n",
       "      <td>0.991767</td>\n",
       "      <td>0.999225</td>\n",
       "      <td>1.006175</td>\n",
       "      <td>1.008589</td>\n",
       "      <td>1.011513</td>\n",
       "      <td>0.994764</td>\n",
       "      <td>1.002079</td>\n",
       "      <td>0.999098</td>\n",
       "      <td>...</td>\n",
       "      <td>1.001180</td>\n",
       "      <td>1.001969</td>\n",
       "      <td>0.994167</td>\n",
       "      <td>1.002001</td>\n",
       "      <td>0.991600</td>\n",
       "      <td>0.997034</td>\n",
       "      <td>1.010274</td>\n",
       "      <td>1.010987</td>\n",
       "      <td>1.008647</td>\n",
       "      <td>1.011752</td>\n",
       "    </tr>\n",
       "    <tr>\n",
       "      <th>2</th>\n",
       "      <td>1.008846</td>\n",
       "      <td>0.999138</td>\n",
       "      <td>0.990578</td>\n",
       "      <td>0.998331</td>\n",
       "      <td>1.010194</td>\n",
       "      <td>0.997378</td>\n",
       "      <td>1.004762</td>\n",
       "      <td>0.981998</td>\n",
       "      <td>1.001032</td>\n",
       "      <td>1.009443</td>\n",
       "      <td>...</td>\n",
       "      <td>0.996838</td>\n",
       "      <td>1.006107</td>\n",
       "      <td>0.986252</td>\n",
       "      <td>0.996652</td>\n",
       "      <td>0.990430</td>\n",
       "      <td>0.992135</td>\n",
       "      <td>1.002697</td>\n",
       "      <td>1.012286</td>\n",
       "      <td>1.006972</td>\n",
       "      <td>1.016264</td>\n",
       "    </tr>\n",
       "    <tr>\n",
       "      <th>3</th>\n",
       "      <td>1.007822</td>\n",
       "      <td>0.999135</td>\n",
       "      <td>0.994795</td>\n",
       "      <td>0.991082</td>\n",
       "      <td>1.009397</td>\n",
       "      <td>1.001377</td>\n",
       "      <td>1.009247</td>\n",
       "      <td>0.974883</td>\n",
       "      <td>1.000686</td>\n",
       "      <td>1.019028</td>\n",
       "      <td>...</td>\n",
       "      <td>1.003592</td>\n",
       "      <td>1.003124</td>\n",
       "      <td>0.978194</td>\n",
       "      <td>1.002539</td>\n",
       "      <td>0.986906</td>\n",
       "      <td>0.993163</td>\n",
       "      <td>0.996634</td>\n",
       "      <td>1.013310</td>\n",
       "      <td>1.008708</td>\n",
       "      <td>1.025046</td>\n",
       "    </tr>\n",
       "    <tr>\n",
       "      <th>4</th>\n",
       "      <td>1.018215</td>\n",
       "      <td>1.002500</td>\n",
       "      <td>0.990126</td>\n",
       "      <td>0.997907</td>\n",
       "      <td>1.010884</td>\n",
       "      <td>0.995014</td>\n",
       "      <td>1.007416</td>\n",
       "      <td>0.971711</td>\n",
       "      <td>1.010200</td>\n",
       "      <td>1.006256</td>\n",
       "      <td>...</td>\n",
       "      <td>1.009729</td>\n",
       "      <td>1.001023</td>\n",
       "      <td>0.977263</td>\n",
       "      <td>1.007217</td>\n",
       "      <td>0.979272</td>\n",
       "      <td>0.995905</td>\n",
       "      <td>0.986694</td>\n",
       "      <td>1.014701</td>\n",
       "      <td>1.012910</td>\n",
       "      <td>1.019811</td>\n",
       "    </tr>\n",
       "  </tbody>\n",
       "</table>\n",
       "<p>5 rows × 100 columns</p>\n",
       "</div>"
      ],
      "text/plain": [
       "         0         1         2         3         4         5         6   \\\n",
       "0  1.000000  1.000000  1.000000  1.000000  1.000000  1.000000  1.000000   \n",
       "1  1.003300  0.994681  0.991767  0.999225  1.006175  1.008589  1.011513   \n",
       "2  1.008846  0.999138  0.990578  0.998331  1.010194  0.997378  1.004762   \n",
       "3  1.007822  0.999135  0.994795  0.991082  1.009397  1.001377  1.009247   \n",
       "4  1.018215  1.002500  0.990126  0.997907  1.010884  0.995014  1.007416   \n",
       "\n",
       "         7         8         9   ...        90        91        92        93  \\\n",
       "0  1.000000  1.000000  1.000000  ...  1.000000  1.000000  1.000000  1.000000   \n",
       "1  0.994764  1.002079  0.999098  ...  1.001180  1.001969  0.994167  1.002001   \n",
       "2  0.981998  1.001032  1.009443  ...  0.996838  1.006107  0.986252  0.996652   \n",
       "3  0.974883  1.000686  1.019028  ...  1.003592  1.003124  0.978194  1.002539   \n",
       "4  0.971711  1.010200  1.006256  ...  1.009729  1.001023  0.977263  1.007217   \n",
       "\n",
       "         94        95        96        97        98        99  \n",
       "0  1.000000  1.000000  1.000000  1.000000  1.000000  1.000000  \n",
       "1  0.991600  0.997034  1.010274  1.010987  1.008647  1.011752  \n",
       "2  0.990430  0.992135  1.002697  1.012286  1.006972  1.016264  \n",
       "3  0.986906  0.993163  0.996634  1.013310  1.008708  1.025046  \n",
       "4  0.979272  0.995905  0.986694  1.014701  1.012910  1.019811  \n",
       "\n",
       "[5 rows x 100 columns]"
      ]
     },
     "execution_count": 20,
     "metadata": {},
     "output_type": "execute_result"
    }
   ],
   "source": [
    "# Run the Monte Carlo Simulation\n",
    "for n in range(number_simulations):\n",
    "    \n",
    "    # Initialize the simulated prices list with the last closing price of `SPY` and `AGG`\n",
    "    simulated_spy_prices = [spy_last_price]\n",
    "    simulated_agg_prices = [agg_last_price]\n",
    "    # Simulate the returns for 252 days\n",
    "    for i in range(number_records):\n",
    "         # Calculate the simulated price using the last price within the list\n",
    "        simulated_spy_price = simulated_spy_prices[-1] * (1 + np.random.normal(avg_daily_return_spy, std_dev_daily_return_spy))\n",
    "        simulated_agg_price = simulated_agg_prices[-1] * (1 + np.random.normal(avg_daily_return_agg, std_dev_daily_return_agg))\n",
    "        \n",
    "        # Append the simulated price to the list\n",
    "        simulated_spy_prices.append(simulated_spy_price)\n",
    "        simulated_agg_prices.append(simulated_agg_price)\n",
    "        \n",
    "  # Append a simulated prices of each simulation to DataFrame\n",
    "    simulated_price_df[\"SPY prices\"] = pd.Series(simulated_spy_prices)\n",
    "    simulated_price_df[\"AGG prices\"] = pd.Series(simulated_agg_prices)\n",
    "    \n",
    "     # Calculate the daily returns of simulated prices\n",
    "    simulated_daily_returns = simulated_price_df.pct_change()\n",
    "    \n",
    "     # Set the portfolio weights (60% JNJ; 40% MU)\n",
    "    weights = [0.60, 0.40]\n",
    "    \n",
    "      # Use the `dot` function with the weights to multiply weights with each column's simulated daily returns\n",
    "    portfolio_daily_returns = simulated_daily_returns.dot(weights)\n",
    "    \n",
    "     # Calculate the normalized, cumulative return series\n",
    "    portfolio_cumulative_returns[n] = (1 + portfolio_daily_returns.fillna(0)).cumprod()\n",
    "    \n",
    "# Print records from the DataFrame\n",
    "portfolio_cumulative_returns.head()"
   ]
  },
  {
   "cell_type": "code",
   "execution_count": 21,
   "metadata": {},
   "outputs": [
    {
     "data": {
      "text/plain": [
       "<matplotlib.axes._subplots.AxesSubplot at 0x11c071b10>"
      ]
     },
     "execution_count": 21,
     "metadata": {},
     "output_type": "execute_result"
    },
    {
     "data": {
      "image/png": "[encoded data removed]",
      "text/plain": [
       "<Figure size 432x288 with 1 Axes>"
      ]
     },
     "metadata": {
      "needs_background": "light"
     },
     "output_type": "display_data"
    }
   ],
   "source": [
    "# Visualize the Simulation\n",
    "# YOUR CODE HERE\n",
    "plot_title = f\"{n+1} Simulations of Cumulative Portfolio Return Trajectories Over the Next 252 Trading Days\"\n",
    "portfolio_cumulative_returns.plot(legend=None, title=plot_title)"
   ]
  },
  {
   "cell_type": "code",
   "execution_count": 22,
   "metadata": {},
   "outputs": [
    {
     "data": {
      "text/plain": [
       "0    58.919961\n",
       "1    46.662664\n",
       "2    68.853396\n",
       "3    74.151863\n",
       "4    65.125783\n",
       "Name: 7560, dtype: float64"
      ]
     },
     "execution_count": 22,
     "metadata": {},
     "output_type": "execute_result"
    }
   ],
   "source": [
    "# Select the last row for the cumulative returns (cumulative returns at 30 years)\n",
    "# YOUR CODE HERE\n",
    "ending_cumulative_returns = portfolio_cumulative_returns.iloc[-1, :]\n",
    "ending_cumulative_returns.head()"
   ]
  },
  {
   "cell_type": "code",
   "execution_count": 23,
   "metadata": {},
   "outputs": [
    {
     "data": {
      "text/plain": [
       "99    39.840136\n",
       "Name: 7560, dtype: float64"
      ]
     },
     "execution_count": 23,
     "metadata": {},
     "output_type": "execute_result"
    }
   ],
   "source": [
    "# Select the last row for the cumulative returns (cumulative returns at 20 years)\n",
    "# YOUR CODE HERE\n",
    "ending_cumulative_returns.tail(1)"
   ]
  },
  {
   "cell_type": "code",
   "execution_count": 24,
   "metadata": {},
   "outputs": [
    {
     "data": {
      "text/plain": [
       "<matplotlib.lines.Line2D at 0x11e5c00d0>"
      ]
     },
     "execution_count": 24,
     "metadata": {},
     "output_type": "execute_result"
    },
    {
     "data": {
      "image/png": "[encoded data removed]",
      "text/plain": [
       "<Figure size 864x504 with 1 Axes>"
      ]
     },
     "metadata": {
      "needs_background": "light"
     },
     "output_type": "display_data"
    }
   ],
   "source": [
    "# Display the 90% confidence interval for the ending returns\n",
    "# YOUR CODE HERE\n",
    "confidence_interval = ending_cumulative_returns.quantile(q=[0.1, 0.9])\n",
    "confidence_interval\n",
    "plt.figure();\n",
    "ending_cumulative_returns.plot(kind='hist', density=True, bins=50,figsize=(12,7))\n",
    "plt.axvline(confidence_interval.iloc[0], color='r')\n",
    "plt.axvline(confidence_interval.iloc[1], color='r')"
   ]
  },
  {
   "cell_type": "code",
   "execution_count": 25,
   "metadata": {},
   "outputs": [
    {
     "data": {
      "text/plain": [
       "<matplotlib.axes._subplots.AxesSubplot at 0x11e8403d0>"
      ]
     },
     "execution_count": 25,
     "metadata": {},
     "output_type": "execute_result"
    },
    {
     "data": {
      "image/png": "[encoded data removed]",
      "text/plain": [
       "<Figure size 864x504 with 1 Axes>"
      ]
     },
     "metadata": {
      "needs_background": "light"
     },
     "output_type": "display_data"
    }
   ],
   "source": [
    "# Visualize the distribution of the ending returns\n",
    "# YOUR CODE HERE\n",
    "distribution_of_ending_returns = ending_cumulative_returns.value_counts(bins=50) / len(ending_cumulative_returns)\n",
    "distribution_of_ending_returns.plot(figsize=(12,7))"
   ]
  },
  {
   "cell_type": "markdown",
   "metadata": {},
   "source": [
    "---"
   ]
  },
  {
   "cell_type": "markdown",
   "metadata": {},
   "source": [
    "# Retirement Analysis\n",
    "\n",
    "In this section, you will use the monte carlo model to answer the following retirement planning questions:\n",
    "\n",
    "1. What are the expected cumulative returns at 30 years for the 10th, 50th, and 90th percentiles?\n",
    "2. Given an initial investment of `$20,000`, what is the expected portfolio return in dollars at the 10th, 50th, and 90th percentiles?\n",
    "3. Given the current projected annual income from the Plaid analysis, will a 4% withdraw rate from the retirement portfolio meet or exceed that value at the 10th percentile?\n",
    "4. How would a 50% increase in the initial investment amount affect the 4% retirement withdrawal?"
   ]
  },
  {
   "cell_type": "markdown",
   "metadata": {},
   "source": [
    "### What are the expected cumulative returns at 30 years for the 10th, 50th, and 90th percentiles?"
   ]
  },
  {
   "cell_type": "code",
   "execution_count": 26,
   "metadata": {},
   "outputs": [
    {
     "data": {
      "text/plain": [
       "0.1    23.151931\n",
       "0.5    46.807741\n",
       "0.9    78.676177\n",
       "Name: 7560, dtype: float64"
      ]
     },
     "execution_count": 26,
     "metadata": {},
     "output_type": "execute_result"
    }
   ],
   "source": [
    "# YOUR CODE HERE\n",
    "confidence_interval = ending_cumulative_returns.quantile(q=[0.10,.50, 0.90])\n",
    "confidence_interval"
   ]
  },
  {
   "cell_type": "markdown",
   "metadata": {},
   "source": [
    "### Given an initial investment of `$20,000`, what is the expected portfolio return in dollars at the 10th, 50th, and 90th percentiles?"
   ]
  },
  {
   "cell_type": "code",
   "execution_count": 31,
   "metadata": {},
   "outputs": [
    {
     "data": {
      "text/plain": [
       "0.01    2.387864e+05\n",
       "0.50    9.361548e+05\n",
       "0.90    1.573524e+06\n",
       "Name: 7560, dtype: float64"
      ]
     },
     "execution_count": 31,
     "metadata": {},
     "output_type": "execute_result"
    }
   ],
   "source": [
    "# YOUR CODE HERE\n",
    "initial_investment = 20000 \n",
    "expected_return = initial_investment * ending_cumulative_returns.quantile([.01, .5, .9])\n",
    "expected_return"
   ]
  },
  {
   "cell_type": "markdown",
   "metadata": {},
   "source": [
    "### Given the current projected annual income from the Plaid analysis, will a 4% withdraw rate from the retirement portfolio meet or exceed that value at the 10th percentile?\n",
    "\n",
    "Note: This is effectively saying that 90% of the expected returns will be greater than the return at the 10th percentile, so this can help measure the uncertainty about having enough funds at retirement"
   ]
  },
  {
   "cell_type": "code",
   "execution_count": null,
   "metadata": {},
   "outputs": [],
   "source": [
    "# YOUR CODE HERE\n"
   ]
  },
  {
   "cell_type": "markdown",
   "metadata": {},
   "source": [
    "### How would a 50% increase in the initial investment amount affect the 4% retirement withdrawal?"
   ]
  },
  {
   "cell_type": "code",
   "execution_count": null,
   "metadata": {},
   "outputs": [],
   "source": [
    "# YOUR CODE HERE"
   ]
  },
  {
   "cell_type": "markdown",
   "metadata": {},
   "source": [
    "### Optional Challenge\n",
    "\n",
    "In this section, you will calculate and plot the cumulative returns for the median and 90% confidence intervals. This plot shows the expected cumulative returns for any given day between the first day and the last day of investment. "
   ]
  },
  {
   "cell_type": "code",
   "execution_count": null,
   "metadata": {},
   "outputs": [],
   "source": [
    "# YOUR CODE HERE"
   ]
  }
 ],
 "metadata": {
  "kernel_info": {
   "name": "dev"
  },
  "kernelspec": {
   "display_name": "Python 3",
   "language": "python",
   "name": "python3"
  },
  "language_info": {
   "codemirror_mode": {
    "name": "ipython",
    "version": 3
   },
   "file_extension": ".py",
   "mimetype": "text/x-python",
   "name": "python",
   "nbconvert_exporter": "python",
   "pygments_lexer": "ipython3",
   "version": "3.7.5"
  },
  "nteract": {
   "version": "0.12.3"
  }
 },
 "nbformat": 4,
 "nbformat_minor": 4
}
